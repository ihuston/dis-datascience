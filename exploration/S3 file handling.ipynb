{
 "cells": [
  {
   "cell_type": "code",
   "execution_count": 11,
   "metadata": {
    "collapsed": true
   },
   "outputs": [],
   "source": [
    "import pandas as pd"
   ]
  },
  {
   "cell_type": "code",
   "execution_count": 4,
   "metadata": {
    "collapsed": true
   },
   "outputs": [],
   "source": [
    "import boto"
   ]
  },
  {
   "cell_type": "code",
   "execution_count": 5,
   "metadata": {
    "collapsed": false
   },
   "outputs": [],
   "source": [
    "c = boto.connect_s3()"
   ]
  },
  {
   "cell_type": "code",
   "execution_count": 6,
   "metadata": {
    "collapsed": true
   },
   "outputs": [],
   "source": [
    "b = c.get_bucket('pivotal-london-dis')"
   ]
  },
  {
   "cell_type": "code",
   "execution_count": 7,
   "metadata": {
    "collapsed": false
   },
   "outputs": [],
   "source": [
    "list_of_files = b.list()"
   ]
  },
  {
   "cell_type": "code",
   "execution_count": 8,
   "metadata": {
    "collapsed": false
   },
   "outputs": [
    {
     "data": {
      "text/plain": [
       "<boto.s3.bucketlistresultset.BucketListResultSet at 0x107702550>"
      ]
     },
     "execution_count": 8,
     "metadata": {},
     "output_type": "execute_result"
    }
   ],
   "source": [
    "list_of_files"
   ]
  },
  {
   "cell_type": "code",
   "execution_count": 9,
   "metadata": {
    "collapsed": false
   },
   "outputs": [
    {
     "name": "stdout",
     "output_type": "stream",
     "text": [
      "<Key: pivotal-london-dis,tfl_api_line_mode_status_tube_2015-02-24_11:51:45.json>\n"
     ]
    }
   ],
   "source": [
    "for l in list_of_files:\n",
    "    print(l) \n",
    "    break"
   ]
  },
  {
   "cell_type": "code",
   "execution_count": 12,
   "metadata": {
    "collapsed": false,
    "scrolled": true
   },
   "outputs": [
    {
     "data": {
      "text/html": [
       "<div>\n",
       "<table border=\"1\" class=\"dataframe\">\n",
       "  <thead>\n",
       "    <tr style=\"text-align: right;\">\n",
       "      <th></th>\n",
       "      <th>$type</th>\n",
       "      <th>created</th>\n",
       "      <th>disruptedNaptanIds</th>\n",
       "      <th>id</th>\n",
       "      <th>lineStatuses</th>\n",
       "      <th>modeName</th>\n",
       "      <th>modified</th>\n",
       "      <th>name</th>\n",
       "      <th>routeSections</th>\n",
       "    </tr>\n",
       "  </thead>\n",
       "  <tbody>\n",
       "    <tr>\n",
       "      <th>0</th>\n",
       "      <td>Tfl.Api.Presentation.Entities.Line, Tfl.Api.Pr...</td>\n",
       "      <td>2015-02-23T13:10:57.307</td>\n",
       "      <td>[940GZZLUBST, 940GZZLUCHX, 940GZZLUEAC, 940GZZ...</td>\n",
       "      <td>bakerloo</td>\n",
       "      <td>[{'statusSeverityDescription': 'Good Service',...</td>\n",
       "      <td>tube</td>\n",
       "      <td>2015-02-23 13:10:57.307</td>\n",
       "      <td>Bakerloo</td>\n",
       "      <td>[]</td>\n",
       "    </tr>\n",
       "    <tr>\n",
       "      <th>1</th>\n",
       "      <td>Tfl.Api.Presentation.Entities.Line, Tfl.Api.Pr...</td>\n",
       "      <td>2015-02-23T13:10:57.587</td>\n",
       "      <td>[940GZZLUBKE, 940GZZLUBLG, 940GZZLUBND, 940GZZ...</td>\n",
       "      <td>central</td>\n",
       "      <td>[{'statusSeverityDescription': 'Good Service',...</td>\n",
       "      <td>tube</td>\n",
       "      <td>2015-02-23 13:10:57.587</td>\n",
       "      <td>Central</td>\n",
       "      <td>[]</td>\n",
       "    </tr>\n",
       "    <tr>\n",
       "      <th>2</th>\n",
       "      <td>Tfl.Api.Presentation.Entities.Line, Tfl.Api.Pr...</td>\n",
       "      <td>2015-02-23T13:10:57.18</td>\n",
       "      <td>[940GZZLUALD, 940GZZLUBBN, 940GZZLUBKF, 940GZZ...</td>\n",
       "      <td>circle</td>\n",
       "      <td>[{'statusSeverityDescription': 'Good Service',...</td>\n",
       "      <td>tube</td>\n",
       "      <td>2015-02-23 13:10:57.180</td>\n",
       "      <td>Circle</td>\n",
       "      <td>[]</td>\n",
       "    </tr>\n",
       "    <tr>\n",
       "      <th>3</th>\n",
       "      <td>Tfl.Api.Presentation.Entities.Line, Tfl.Api.Pr...</td>\n",
       "      <td>2015-02-23T13:10:57.21</td>\n",
       "      <td>[910GBLFR, 940GZZLUADE, 940GZZLUBBB, 940GZZLUB...</td>\n",
       "      <td>district</td>\n",
       "      <td>[{'statusSeverityDescription': 'Good Service',...</td>\n",
       "      <td>tube</td>\n",
       "      <td>2015-02-23 13:10:57.210</td>\n",
       "      <td>District</td>\n",
       "      <td>[]</td>\n",
       "    </tr>\n",
       "    <tr>\n",
       "      <th>4</th>\n",
       "      <td>Tfl.Api.Presentation.Entities.Line, Tfl.Api.Pr...</td>\n",
       "      <td>2015-02-23T13:10:57.413</td>\n",
       "      <td>[940GZZLUADE, 940GZZLUBBB, 940GZZLUBBN, 940GZZ...</td>\n",
       "      <td>hammersmith-city</td>\n",
       "      <td>[{'statusSeverityDescription': 'Good Service',...</td>\n",
       "      <td>tube</td>\n",
       "      <td>2015-02-23 13:10:57.413</td>\n",
       "      <td>Hammersmith &amp; City</td>\n",
       "      <td>[]</td>\n",
       "    </tr>\n",
       "    <tr>\n",
       "      <th>5</th>\n",
       "      <td>Tfl.Api.Presentation.Entities.Line, Tfl.Api.Pr...</td>\n",
       "      <td>2015-02-23T13:10:57.96</td>\n",
       "      <td>[940GZZLUBMY, 940GZZLUBND, 940GZZLUBST, 940GZZ...</td>\n",
       "      <td>jubilee</td>\n",
       "      <td>[{'statusSeverityDescription': 'Good Service',...</td>\n",
       "      <td>tube</td>\n",
       "      <td>2015-02-23 13:10:57.960</td>\n",
       "      <td>Jubilee</td>\n",
       "      <td>[]</td>\n",
       "    </tr>\n",
       "    <tr>\n",
       "      <th>6</th>\n",
       "      <td>Tfl.Api.Presentation.Entities.Line, Tfl.Api.Pr...</td>\n",
       "      <td>2015-02-23T13:10:56.947</td>\n",
       "      <td>[940GZZLUALD, 940GZZLUBBN, 940GZZLUBST, 940GZZ...</td>\n",
       "      <td>metropolitan</td>\n",
       "      <td>[{'statusSeverityDescription': 'Good Service',...</td>\n",
       "      <td>tube</td>\n",
       "      <td>2015-02-23 13:10:56.947</td>\n",
       "      <td>Metropolitan</td>\n",
       "      <td>[]</td>\n",
       "    </tr>\n",
       "    <tr>\n",
       "      <th>7</th>\n",
       "      <td>Tfl.Api.Presentation.Entities.Line, Tfl.Api.Pr...</td>\n",
       "      <td>2015-02-23T13:10:57.837</td>\n",
       "      <td>[940GZZLUAGL, 940GZZLUBLM, 940GZZLUBNK, 940GZZ...</td>\n",
       "      <td>northern</td>\n",
       "      <td>[{'statusSeverityDescription': 'Good Service',...</td>\n",
       "      <td>tube</td>\n",
       "      <td>2015-02-23 13:10:57.837</td>\n",
       "      <td>Northern</td>\n",
       "      <td>[]</td>\n",
       "    </tr>\n",
       "    <tr>\n",
       "      <th>8</th>\n",
       "      <td>Tfl.Api.Presentation.Entities.Line, Tfl.Api.Pr...</td>\n",
       "      <td>2015-02-23T13:10:57.727</td>\n",
       "      <td>[940GZZLUACT, 940GZZLUALP, 940GZZLUASG, 940GZZ...</td>\n",
       "      <td>piccadilly</td>\n",
       "      <td>[{'statusSeverityDescription': 'Good Service',...</td>\n",
       "      <td>tube</td>\n",
       "      <td>2015-02-23 13:10:57.727</td>\n",
       "      <td>Piccadilly</td>\n",
       "      <td>[]</td>\n",
       "    </tr>\n",
       "    <tr>\n",
       "      <th>9</th>\n",
       "      <td>Tfl.Api.Presentation.Entities.Line, Tfl.Api.Pr...</td>\n",
       "      <td>2015-02-23T13:10:57.93</td>\n",
       "      <td>[940GZZLUBLR, 940GZZLUBXN, 940GZZLUEUS, 940GZZ...</td>\n",
       "      <td>victoria</td>\n",
       "      <td>[{'statusSeverityDescription': 'Good Service',...</td>\n",
       "      <td>tube</td>\n",
       "      <td>2015-02-23 13:10:57.930</td>\n",
       "      <td>Victoria</td>\n",
       "      <td>[]</td>\n",
       "    </tr>\n",
       "    <tr>\n",
       "      <th>10</th>\n",
       "      <td>Tfl.Api.Presentation.Entities.Line, Tfl.Api.Pr...</td>\n",
       "      <td>2015-02-23T13:10:57.617</td>\n",
       "      <td>[]</td>\n",
       "      <td>waterloo-city</td>\n",
       "      <td>[{'statusSeverityDescription': 'Good Service',...</td>\n",
       "      <td>tube</td>\n",
       "      <td>2015-02-23 13:10:57.617</td>\n",
       "      <td>Waterloo &amp; City</td>\n",
       "      <td>[]</td>\n",
       "    </tr>\n",
       "  </tbody>\n",
       "</table>\n",
       "</div>"
      ],
      "text/plain": [
       "                                                $type  \\\n",
       "0   Tfl.Api.Presentation.Entities.Line, Tfl.Api.Pr...   \n",
       "1   Tfl.Api.Presentation.Entities.Line, Tfl.Api.Pr...   \n",
       "2   Tfl.Api.Presentation.Entities.Line, Tfl.Api.Pr...   \n",
       "3   Tfl.Api.Presentation.Entities.Line, Tfl.Api.Pr...   \n",
       "4   Tfl.Api.Presentation.Entities.Line, Tfl.Api.Pr...   \n",
       "5   Tfl.Api.Presentation.Entities.Line, Tfl.Api.Pr...   \n",
       "6   Tfl.Api.Presentation.Entities.Line, Tfl.Api.Pr...   \n",
       "7   Tfl.Api.Presentation.Entities.Line, Tfl.Api.Pr...   \n",
       "8   Tfl.Api.Presentation.Entities.Line, Tfl.Api.Pr...   \n",
       "9   Tfl.Api.Presentation.Entities.Line, Tfl.Api.Pr...   \n",
       "10  Tfl.Api.Presentation.Entities.Line, Tfl.Api.Pr...   \n",
       "\n",
       "                    created  \\\n",
       "0   2015-02-23T13:10:57.307   \n",
       "1   2015-02-23T13:10:57.587   \n",
       "2    2015-02-23T13:10:57.18   \n",
       "3    2015-02-23T13:10:57.21   \n",
       "4   2015-02-23T13:10:57.413   \n",
       "5    2015-02-23T13:10:57.96   \n",
       "6   2015-02-23T13:10:56.947   \n",
       "7   2015-02-23T13:10:57.837   \n",
       "8   2015-02-23T13:10:57.727   \n",
       "9    2015-02-23T13:10:57.93   \n",
       "10  2015-02-23T13:10:57.617   \n",
       "\n",
       "                                   disruptedNaptanIds                id  \\\n",
       "0   [940GZZLUBST, 940GZZLUCHX, 940GZZLUEAC, 940GZZ...          bakerloo   \n",
       "1   [940GZZLUBKE, 940GZZLUBLG, 940GZZLUBND, 940GZZ...           central   \n",
       "2   [940GZZLUALD, 940GZZLUBBN, 940GZZLUBKF, 940GZZ...            circle   \n",
       "3   [910GBLFR, 940GZZLUADE, 940GZZLUBBB, 940GZZLUB...          district   \n",
       "4   [940GZZLUADE, 940GZZLUBBB, 940GZZLUBBN, 940GZZ...  hammersmith-city   \n",
       "5   [940GZZLUBMY, 940GZZLUBND, 940GZZLUBST, 940GZZ...           jubilee   \n",
       "6   [940GZZLUALD, 940GZZLUBBN, 940GZZLUBST, 940GZZ...      metropolitan   \n",
       "7   [940GZZLUAGL, 940GZZLUBLM, 940GZZLUBNK, 940GZZ...          northern   \n",
       "8   [940GZZLUACT, 940GZZLUALP, 940GZZLUASG, 940GZZ...        piccadilly   \n",
       "9   [940GZZLUBLR, 940GZZLUBXN, 940GZZLUEUS, 940GZZ...          victoria   \n",
       "10                                                 []     waterloo-city   \n",
       "\n",
       "                                         lineStatuses modeName  \\\n",
       "0   [{'statusSeverityDescription': 'Good Service',...     tube   \n",
       "1   [{'statusSeverityDescription': 'Good Service',...     tube   \n",
       "2   [{'statusSeverityDescription': 'Good Service',...     tube   \n",
       "3   [{'statusSeverityDescription': 'Good Service',...     tube   \n",
       "4   [{'statusSeverityDescription': 'Good Service',...     tube   \n",
       "5   [{'statusSeverityDescription': 'Good Service',...     tube   \n",
       "6   [{'statusSeverityDescription': 'Good Service',...     tube   \n",
       "7   [{'statusSeverityDescription': 'Good Service',...     tube   \n",
       "8   [{'statusSeverityDescription': 'Good Service',...     tube   \n",
       "9   [{'statusSeverityDescription': 'Good Service',...     tube   \n",
       "10  [{'statusSeverityDescription': 'Good Service',...     tube   \n",
       "\n",
       "                  modified                name routeSections  \n",
       "0  2015-02-23 13:10:57.307            Bakerloo            []  \n",
       "1  2015-02-23 13:10:57.587             Central            []  \n",
       "2  2015-02-23 13:10:57.180              Circle            []  \n",
       "3  2015-02-23 13:10:57.210            District            []  \n",
       "4  2015-02-23 13:10:57.413  Hammersmith & City            []  \n",
       "5  2015-02-23 13:10:57.960             Jubilee            []  \n",
       "6  2015-02-23 13:10:56.947        Metropolitan            []  \n",
       "7  2015-02-23 13:10:57.837            Northern            []  \n",
       "8  2015-02-23 13:10:57.727          Piccadilly            []  \n",
       "9  2015-02-23 13:10:57.930            Victoria            []  \n",
       "10 2015-02-23 13:10:57.617     Waterloo & City            []  "
      ]
     },
     "execution_count": 12,
     "metadata": {},
     "output_type": "execute_result"
    }
   ],
   "source": [
    "pd.read_json(l)"
   ]
  },
  {
   "cell_type": "code",
   "execution_count": 66,
   "metadata": {
    "collapsed": false
   },
   "outputs": [],
   "source": [
    "l2 = b.list(prefix='tfl_api_line_mode_status_tube_2015-02-24_11:')"
   ]
  },
  {
   "cell_type": "code",
   "execution_count": 67,
   "metadata": {
    "collapsed": false
   },
   "outputs": [
    {
     "data": {
      "text/plain": [
       "[<Key: pivotal-london-dis,tfl_api_line_mode_status_tube_2015-02-24_11:51:45.json>,\n",
       " <Key: pivotal-london-dis,tfl_api_line_mode_status_tube_2015-02-24_11:52:44.json>,\n",
       " <Key: pivotal-london-dis,tfl_api_line_mode_status_tube_2015-02-24_11:53:44.json>,\n",
       " <Key: pivotal-london-dis,tfl_api_line_mode_status_tube_2015-02-24_11:54:45.json>,\n",
       " <Key: pivotal-london-dis,tfl_api_line_mode_status_tube_2015-02-24_11:55:44.json>,\n",
       " <Key: pivotal-london-dis,tfl_api_line_mode_status_tube_2015-02-24_11:56:45.json>]"
      ]
     },
     "execution_count": 67,
     "metadata": {},
     "output_type": "execute_result"
    }
   ],
   "source": [
    "list(l2)"
   ]
  },
  {
   "cell_type": "code",
   "execution_count": 31,
   "metadata": {
    "collapsed": false
   },
   "outputs": [],
   "source": [
    "import sys\n",
    "sys.path.append('..')"
   ]
  },
  {
   "cell_type": "code",
   "execution_count": 77,
   "metadata": {
    "collapsed": false
   },
   "outputs": [],
   "source": [
    "from dis_ds import parsing"
   ]
  },
  {
   "cell_type": "code",
   "execution_count": 89,
   "metadata": {
    "collapsed": false
   },
   "outputs": [
    {
     "data": {
      "text/plain": [
       "<module 'dis_ds.parsing' from '../dis_ds/parsing.py'>"
      ]
     },
     "execution_count": 89,
     "metadata": {},
     "output_type": "execute_result"
    }
   ],
   "source": [
    "import imp\n",
    "imp.reload(parsing)"
   ]
  },
  {
   "cell_type": "code",
   "execution_count": 38,
   "metadata": {
    "collapsed": false
   },
   "outputs": [
    {
     "data": {
      "text/plain": [
       "'tfl_api_line_mode_status_tube_2015-02-24_11:51:45.json'"
      ]
     },
     "execution_count": 38,
     "metadata": {},
     "output_type": "execute_result"
    }
   ],
   "source": [
    "l.key"
   ]
  },
  {
   "cell_type": "code",
   "execution_count": 54,
   "metadata": {
    "collapsed": false
   },
   "outputs": [
    {
     "data": {
      "text/plain": [
       "<Key: pivotal-london-dis,tfl_api_line_mode_status_tube_2015-02-24_11:51:45.json>"
      ]
     },
     "execution_count": 54,
     "metadata": {},
     "output_type": "execute_result"
    }
   ],
   "source": [
    "list(b.list(prefix='tfl_api_line_mode_status_tube_2015-02-24_11:51:45.json'))[0]"
   ]
  },
  {
   "cell_type": "code",
   "execution_count": 61,
   "metadata": {
    "collapsed": false
   },
   "outputs": [
    {
     "data": {
      "text/plain": [
       "'tfl_api_line_mode_status_tube_2015-02-24_11:51:45.json'"
      ]
     },
     "execution_count": 61,
     "metadata": {},
     "output_type": "execute_result"
    }
   ],
   "source": [
    "getattr(l, 'key', 'myfile')"
   ]
  },
  {
   "cell_type": "code",
   "execution_count": 62,
   "metadata": {
    "collapsed": false
   },
   "outputs": [
    {
     "data": {
      "text/plain": [
       "'tfl_api_line_mode_status_tube_2015-02-24_11:51:45.json'"
      ]
     },
     "execution_count": 62,
     "metadata": {},
     "output_type": "execute_result"
    }
   ],
   "source": [
    "l.key"
   ]
  },
  {
   "cell_type": "code",
   "execution_count": 65,
   "metadata": {
    "collapsed": false
   },
   "outputs": [
    {
     "data": {
      "text/plain": [
       "'mydefault'"
      ]
     },
     "execution_count": 65,
     "metadata": {},
     "output_type": "execute_result"
    }
   ],
   "source": [
    "getattr(l, 'key2', 'mydefault')"
   ]
  },
  {
   "cell_type": "code",
   "execution_count": 86,
   "metadata": {
    "collapsed": false
   },
   "outputs": [],
   "source": [
    "newdf = parsing.parse_file_list(list(b.list(prefix='tfl_api_line_mode_status_tube_2015-02-28_11:5')))"
   ]
  },
  {
   "cell_type": "code",
   "execution_count": 90,
   "metadata": {
    "collapsed": false
   },
   "outputs": [
    {
     "data": {
      "text/plain": [
       "10"
      ]
     },
     "execution_count": 90,
     "metadata": {},
     "output_type": "execute_result"
    }
   ],
   "source": [
    "len(newdf)"
   ]
  },
  {
   "cell_type": "markdown",
   "metadata": {},
   "source": [
    "## Test S3 parsing times"
   ]
  },
  {
   "cell_type": "code",
   "execution_count": 93,
   "metadata": {
    "collapsed": false
   },
   "outputs": [
    {
     "name": "stdout",
     "output_type": "stream",
     "text": [
      "1 loops, best of 3: 649 ms per loop\n"
     ]
    }
   ],
   "source": [
    "#ten files\n",
    "%timeit parsing.parse_s3_files('tfl_api_line_mode_status_tube_2015-02-28_11:5')"
   ]
  },
  {
   "cell_type": "code",
   "execution_count": 94,
   "metadata": {
    "collapsed": false
   },
   "outputs": [
    {
     "name": "stdout",
     "output_type": "stream",
     "text": [
      "1 loops, best of 3: 2min 44s per loop\n"
     ]
    }
   ],
   "source": [
    "#one day\n",
    "%timeit parsing.parse_s3_files('tfl_api_line_mode_status_tube_2015-02-28')"
   ]
  },
  {
   "cell_type": "code",
   "execution_count": 97,
   "metadata": {
    "collapsed": false
   },
   "outputs": [
    {
     "data": {
      "text/plain": [
       "9.566666666666666"
      ]
     },
     "execution_count": 97,
     "metadata": {},
     "output_type": "execute_result"
    }
   ],
   "source": [
    "(2*60+44)*210/3600"
   ]
  },
  {
   "cell_type": "code",
   "execution_count": null,
   "metadata": {
    "collapsed": false
   },
   "outputs": [],
   "source": [
    "list_of_files\n"
   ]
  },
  {
   "cell_type": "code",
   "execution_count": null,
   "metadata": {
    "collapsed": false
   },
   "outputs": [],
   "source": []
  },
  {
   "cell_type": "code",
   "execution_count": null,
   "metadata": {
    "collapsed": true
   },
   "outputs": [],
   "source": []
  }
 ],
 "metadata": {
  "kernelspec": {
   "display_name": "Python 3",
   "language": "python",
   "name": "python3"
  },
  "language_info": {
   "codemirror_mode": {
    "name": "ipython",
    "version": 3
   },
   "file_extension": ".py",
   "mimetype": "text/x-python",
   "name": "python",
   "nbconvert_exporter": "python",
   "pygments_lexer": "ipython3",
   "version": "3.4.3"
  }
 },
 "nbformat": 4,
 "nbformat_minor": 0
}
